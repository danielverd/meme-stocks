{
 "cells": [
  {
   "cell_type": "code",
   "execution_count": null,
   "metadata": {},
   "outputs": [],
   "source": [
    "import matplotlib.pyplot as plt\n",
    "import numpy as np\n",
    "import pandas as pd\n",
    "from sklearn import linear_model\n",
    "from sklearn.svm import SVR\n",
    "from sklearn.model_selection import train_test_split\n",
    "from sklearn.metrics import mean_absolute_error, r2_score\n",
    "import seaborn as sns\n",
    "from statsmodels.tsa.stattools import adfuller\n",
    "from statsmodels.tsa.api import VAR"
   ]
  },
  {
   "cell_type": "code",
   "execution_count": null,
   "metadata": {},
   "outputs": [],
   "source": [
    "xyzX = pd.read_csv('xyz-output.csv')\n",
    "\n",
    "#Remove any columns that aren't used\n",
    "xyzX = xyzX.loc[:, xyzX.columns != 'date']\n",
    "xyzX = xyzX.loc[:, xyzX.columns != 'Unnamed: 0']\n",
    "xyzX = xyzX.loc[:, xyzX.columns != 'daychange']\n",
    "xyzX = xyzX.loc[:, xyzX.columns != 'anger']\n",
    "xyzX = xyzX.loc[:, xyzX.columns != 'disgust']\n",
    "xyzX = xyzX.loc[:, xyzX.columns != 'fear']\n",
    "xyzX = xyzX.loc[:, xyzX.columns != 'joy']\n",
    "xyzX = xyzX.loc[:, xyzX.columns != 'sadness']\n",
    "xyzX = xyzX.loc[:, xyzX.columns != 'surprise']\n",
    "xyzX = xyzX.loc[:, xyzX.columns != 'connectivity']\n",
    "xyzX = xyzX.loc[:, xyzX.columns != 'avgdeg']\n",
    "\n",
    "xyzX = xyzX.head(70)\n",
    "xyzX"
   ]
  },
  {
   "cell_type": "code",
   "execution_count": null,
   "metadata": {},
   "outputs": [],
   "source": [
    "from sklearn.preprocessing import MinMaxScaler\n",
    "scaler = MinMaxScaler()\n",
    "sns.set(rc={'figure.figsize':(11,8)})\n",
    "\n",
    "xyzXs = scaler.fit_transform(xyzX)\n",
    "xyzXs = pd.DataFrame(xyzXs,columns=['size','edges','diameter','clustering','volume'])\n",
    "xyzXs[['clustering','volume']].plot()"
   ]
  },
  {
   "cell_type": "code",
   "execution_count": null,
   "metadata": {},
   "outputs": [],
   "source": [
    "for metric in xyzXs.columns:\n",
    "    result = adfuller(xyzXs[[metric]])\n",
    "    print('A-DF of metric',metric,'has p-value of',result[1])\n",
    "    print()"
   ]
  },
  {
   "cell_type": "code",
   "execution_count": null,
   "metadata": {},
   "outputs": [],
   "source": [
    "#build the VAR model\n",
    "xyzXm = xyzXs.head(55)\n",
    "\n",
    "model = VAR(xyzXm)\n",
    "print(model.select_order(5))\n",
    "\n",
    "xyz_model = model.fit(1) #Use the recommended lag length for the current stock\n",
    "\n",
    "xyz_model.summary()"
   ]
  },
  {
   "cell_type": "code",
   "execution_count": null,
   "metadata": {},
   "outputs": [],
   "source": [
    "#forecast and plot\n",
    "\n",
    "sns.set(rc={'figure.figsize':(22,16)})\n",
    "\n",
    "xyzXs[['volume']].plot()\n",
    "plt.plot(xyz_model.fittedvalues['volume'],label='predicted_volume')\n",
    "plt.legend(fontsize='28')\n",
    "plt.title('#XYZ Volume over Time',fontsize=32)\n",
    "plt.xlabel('day')\n",
    "plt.ylabel('Volume (0,1)')"
   ]
  },
  {
   "cell_type": "code",
   "execution_count": null,
   "metadata": {},
   "outputs": [],
   "source": [
    "#test for causality\n",
    "print(xyz_model.test_causality(4,0))\n",
    "print(xyz_model.test_causality(4,1))\n",
    "print(xyz_model.test_causality(4,2))\n",
    "print(xyz_model.test_causality(4,3))\n",
    "print(xyz_model.test_causality(4,4))"
   ]
  },
  {
   "cell_type": "code",
   "execution_count": null,
   "metadata": {},
   "outputs": [],
   "source": [
    "#test for reverse causality\n",
    "print(xyz_model.test_causality(0,4))\n",
    "print(xyz_model.test_causality(1,4))\n",
    "print(xyz_model.test_causality(2,4))\n",
    "print(xyz_model.test_causality(3,4))\n",
    "print(xyz_model.test_causality(4,4))"
   ]
  },
  {
   "cell_type": "code",
   "execution_count": null,
   "metadata": {},
   "outputs": [],
   "source": [
    "print('XYZ',mean_absolute_error(xyzXs[['volume']][1:55],xyz_model.fittedvalues['volume'])) #start the actual array from the Lth position"
   ]
  },
  {
   "cell_type": "code",
   "execution_count": null,
   "metadata": {},
   "outputs": [],
   "source": [
    "forecast_input = xyzXm.values[-1:] # use recommended lag length for the current stock\n",
    "\n",
    "fc = xyz_model.forecast(y=forecast_input, steps=15)\n",
    "df_forecast = pd.DataFrame(fc, index=xyzXs.index[55:], columns=xyzXm.columns + '_2d')\n",
    "df_forecast"
   ]
  },
  {
   "cell_type": "code",
   "execution_count": null,
   "metadata": {},
   "outputs": [],
   "source": [
    "print('XYZ',mean_absolute_error(xyzXs[['volume']][55:],df_forecast['volume_2d']))"
   ]
  },
  {
   "cell_type": "code",
   "execution_count": null,
   "metadata": {},
   "outputs": [],
   "source": [
    "from statsmodels.stats.outliers_influence import variance_inflation_factor\n",
    "\n",
    "for i in range(len(xyzXs)):\n",
    "    print(xyzXs.columns[i],variance_inflation_factor(xyzXs.values,i))"
   ]
  },
  {
   "cell_type": "code",
   "execution_count": null,
   "metadata": {},
   "outputs": [],
   "source": []
  }
 ],
 "metadata": {
  "kernelspec": {
   "display_name": "Python 3",
   "language": "python",
   "name": "python3"
  },
  "language_info": {
   "codemirror_mode": {
    "name": "ipython",
    "version": 3
   },
   "file_extension": ".py",
   "mimetype": "text/x-python",
   "name": "python",
   "nbconvert_exporter": "python",
   "pygments_lexer": "ipython3",
   "version": "3.11.4"
  },
  "orig_nbformat": 4
 },
 "nbformat": 4,
 "nbformat_minor": 2
}
